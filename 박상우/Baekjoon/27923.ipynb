{
 "cells": [
  {
   "cell_type": "code",
   "execution_count": 1,
   "metadata": {},
   "outputs": [
    {
     "name": "stdout",
     "output_type": "stream",
     "text": [
      "12\n"
     ]
    }
   ],
   "source": [
    "from math import floor\n",
    "\n",
    "\n",
    "n, k, l = map(int, input().split())\n",
    "burger = list(map(int, input().split()))\n",
    "k_idx = list(map(int, input().split()))\n",
    "\n",
    "stomach_list = [0] * n \n",
    "\n",
    "\n",
    "for i in k_idx:\n",
    "    for j in range(l):\n",
    "        if i-1+j >= n:\n",
    "            pass\n",
    "        else:\n",
    "            stomach_list[i-1+j] += 1 \n",
    "            \n",
    "stomach_list.sort(reverse=True)\n",
    "\n",
    "stomach = 0 \n",
    "burger.sort(reverse=True)\n",
    "for i in range(len(burger)):\n",
    "    stomach += floor(burger[i] / (2**stomach_list[i]))\n",
    "    \n",
    "print(stomach)"
   ]
  },
  {
   "cell_type": "code",
   "execution_count": 5,
   "metadata": {},
   "outputs": [
    {
     "name": "stdout",
     "output_type": "stream",
     "text": [
      "0\n"
     ]
    }
   ],
   "source": [
    "from math import floor\n",
    "\n",
    "\n",
    "n, k, l = map(int, input().split())\n",
    "burger = list(map(int, input().split()))\n",
    "k_idx = list(map(int, input().split()))\n",
    "\n",
    "stomach_list = [0] * n \n",
    "\n",
    "\n",
    "for i in k_idx:\n",
    "    if i+l >= n:\n",
    "        stomach_list[i-1:n] = list(map(lambda x: x+1, stomach_list[i-1:n]))\n",
    "    else:\n",
    "        stomach_list[i-1:i+l-1] = list(map(lambda x: x+1, stomach_list[i-1:i+l-1]))\n",
    "            \n",
    "stomach_list.sort(reverse=True)\n",
    "\n",
    "stomach = 0 \n",
    "burger.sort(reverse=True)\n",
    "for i in range(len(burger)):\n",
    "    stomach += floor(burger[i] / (2**stomach_list[i]))\n",
    "    \n",
    "print(stomach)"
   ]
  },
  {
   "cell_type": "code",
   "execution_count": 14,
   "metadata": {},
   "outputs": [
    {
     "name": "stdout",
     "output_type": "stream",
     "text": [
      "0\n"
     ]
    }
   ],
   "source": [
    "from math import floor\n",
    "from collections import Counter\n",
    "\n",
    "\n",
    "n, k, l = map(int, input().split())\n",
    "burger = list(map(int, input().split()))\n",
    "k_idx = list(map(int, input().split()))\n",
    "\n",
    "stomach_list = [0] * n \n",
    "end = [0] * (2*n)\n",
    "\n",
    "k_idx.sort()\n",
    "cnt = 0\n",
    "\n",
    "k_idx = Counter(k_idx)\n",
    "for i in range(n):\n",
    "    cnt += k_idx[i+1]\n",
    "    end[i+l] = k_idx[i+1]\n",
    "    cnt -= end[i]\n",
    "    stomach_list[i] = cnt \n",
    "    \n",
    "    \n",
    "stomach_list.sort(reverse=True)\n",
    "\n",
    "stomach = 0 \n",
    "burger.sort(reverse=True)\n",
    "for i in range(len(burger)):\n",
    "    stomach += floor(burger[i] / (2**stomach_list[i]))\n",
    "    \n",
    "print(stomach)"
   ]
  }
 ],
 "metadata": {
  "kernelspec": {
   "display_name": "Python 3",
   "language": "python",
   "name": "python3"
  },
  "language_info": {
   "codemirror_mode": {
    "name": "ipython",
    "version": 3
   },
   "file_extension": ".py",
   "mimetype": "text/x-python",
   "name": "python",
   "nbconvert_exporter": "python",
   "pygments_lexer": "ipython3",
   "version": "3.10.5"
  },
  "orig_nbformat": 4
 },
 "nbformat": 4,
 "nbformat_minor": 2
}
