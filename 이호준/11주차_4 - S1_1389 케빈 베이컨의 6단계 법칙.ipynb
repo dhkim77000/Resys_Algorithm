{
 "cells": [
  {
   "cell_type": "code",
   "execution_count": 14,
   "id": "ec2e870e",
   "metadata": {
    "ExecuteTime": {
     "end_time": "2023-05-19T02:46:06.786622Z",
     "start_time": "2023-05-19T02:45:51.553566Z"
    }
   },
   "outputs": [
    {
     "name": "stdout",
     "output_type": "stream",
     "text": [
      "5 5\n",
      "1 3\n",
      "1 4\n",
      "4 5\n",
      "4 3\n",
      "3 2\n",
      "3\n"
     ]
    }
   ],
   "source": [
    "INF = int(1e9)\n",
    "\n",
    "n, m = map(int, input().split())\n",
    "graph = [[INF] * (n+1) for _ in range(n+1)]\n",
    "\n",
    "for a in range(1, n+1):\n",
    "    for b in range(1, n+1):\n",
    "        if a == b:\n",
    "            graph[a][b] = 0\n",
    "\n",
    "m_list = [list(map(int, input().split())) for _ in range(m)]\n",
    "m_dict = {v:i for i,v in enumerate(sorted(list(set(sum(m_list,[])))),1)}\n",
    "# print(m_dict)\n",
    "for a,b in m_list:\n",
    "    graph[m_dict[a]][m_dict[b]] = 1\n",
    "    graph[m_dict[b]][m_dict[a]] = 1\n",
    "    \n",
    "for k in range(1, n+1):\n",
    "    for a in range(1, n+1):\n",
    "        for b in range(1, n+1):\n",
    "            graph[a][b] = min(graph[a][b], graph[a][k] + graph[k][b])\n",
    "m_dict = {i:v for i,v in m_dict.items()}\n",
    "\n",
    "result = [sum(i[1:]) for i in graph[1:]]\n",
    "print(m_dict[result.index(min(result))+1])"
   ]
  }
 ],
 "metadata": {
  "kernelspec": {
   "display_name": "Python 3 (ipykernel)",
   "language": "python",
   "name": "python3"
  },
  "language_info": {
   "codemirror_mode": {
    "name": "ipython",
    "version": 3
   },
   "file_extension": ".py",
   "mimetype": "text/x-python",
   "name": "python",
   "nbconvert_exporter": "python",
   "pygments_lexer": "ipython3",
   "version": "3.10.6"
  },
  "toc": {
   "base_numbering": 1,
   "nav_menu": {},
   "number_sections": true,
   "sideBar": true,
   "skip_h1_title": false,
   "title_cell": "Table of Contents",
   "title_sidebar": "Contents",
   "toc_cell": false,
   "toc_position": {},
   "toc_section_display": true,
   "toc_window_display": false
  }
 },
 "nbformat": 4,
 "nbformat_minor": 5
}
