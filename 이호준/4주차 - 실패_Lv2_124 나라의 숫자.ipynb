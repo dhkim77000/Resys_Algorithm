{
 "cells": [
  {
   "cell_type": "code",
   "execution_count": 3,
   "id": "65d218ae",
   "metadata": {
    "ExecuteTime": {
     "end_time": "2023-04-03T07:37:23.791524Z",
     "start_time": "2023-04-03T07:37:23.789811Z"
    }
   },
   "outputs": [],
   "source": [
    "import math"
   ]
  },
  {
   "cell_type": "code",
   "execution_count": null,
   "id": "5a6c7fb8",
   "metadata": {
    "ExecuteTime": {
     "start_time": "2023-04-03T07:45:51.307Z"
    }
   },
   "outputs": [
    {
     "name": "stdout",
     "output_type": "stream",
     "text": [
      "11\n",
      "1\n",
      "\n",
      "2\n",
      "1\n",
      "3\n",
      "2\n",
      "4\n",
      "10\n",
      "5\n",
      "11\n",
      "6\n",
      "12\n",
      "7\n",
      "20\n",
      "8\n",
      "21\n",
      "9\n",
      "22\n"
     ]
    }
   ],
   "source": [
    "n=10\n",
    "for i in range(int(input())):\n",
    "    n=int(input())-1\n",
    "    rev_base = ''\n",
    "\n",
    "    while n > 0:\n",
    "        n, mod = divmod(n, 3)\n",
    "        rev_base += str(mod)\n",
    "\n",
    "    print(rev_base[::-1] )"
   ]
  },
  {
   "cell_type": "code",
   "execution_count": 2,
   "id": "2baeab0b",
   "metadata": {
    "ExecuteTime": {
     "end_time": "2023-04-03T07:36:07.906825Z",
     "start_time": "2023-04-03T07:36:07.901939Z"
    }
   },
   "outputs": [
    {
     "data": {
      "text/plain": [
       "1"
      ]
     },
     "execution_count": 2,
     "metadata": {},
     "output_type": "execute_result"
    }
   ],
   "source": [
    "for "
   ]
  },
  {
   "cell_type": "code",
   "execution_count": null,
   "id": "7e45bbcb",
   "metadata": {},
   "outputs": [],
   "source": [
    "3 + 9 + 27 + 81"
   ]
  },
  {
   "cell_type": "code",
   "execution_count": 3,
   "id": "6133b49a",
   "metadata": {
    "ExecuteTime": {
     "end_time": "2023-03-29T06:03:17.619691Z",
     "start_time": "2023-03-29T06:03:17.617344Z"
    }
   },
   "outputs": [
    {
     "data": {
      "text/plain": [
       "(1, 1)"
      ]
     },
     "execution_count": 3,
     "metadata": {},
     "output_type": "execute_result"
    }
   ],
   "source": [
    "1, 1"
   ]
  },
  {
   "cell_type": "code",
   "execution_count": 4,
   "id": "d28526f6",
   "metadata": {
    "ExecuteTime": {
     "end_time": "2023-03-29T06:03:24.547618Z",
     "start_time": "2023-03-29T06:03:24.545321Z"
    }
   },
   "outputs": [
    {
     "data": {
      "text/plain": [
       "(2, 2)"
      ]
     },
     "execution_count": 4,
     "metadata": {},
     "output_type": "execute_result"
    }
   ],
   "source": [
    "2, 2"
   ]
  },
  {
   "cell_type": "code",
   "execution_count": 6,
   "id": "9470ba18",
   "metadata": {
    "ExecuteTime": {
     "end_time": "2023-03-29T06:05:22.341872Z",
     "start_time": "2023-03-29T06:05:22.338316Z"
    }
   },
   "outputs": [
    {
     "data": {
      "text/plain": [
       "(3, 4, 10)"
      ]
     },
     "execution_count": 6,
     "metadata": {},
     "output_type": "execute_result"
    }
   ],
   "source": [
    "3,4,10"
   ]
  },
  {
   "cell_type": "code",
   "execution_count": 7,
   "id": "4ae43375",
   "metadata": {
    "ExecuteTime": {
     "end_time": "2023-03-29T06:05:43.509906Z",
     "start_time": "2023-03-29T06:05:43.506808Z"
    }
   },
   "outputs": [
    {
     "data": {
      "text/plain": [
       "(4, 11, 11)"
      ]
     },
     "execution_count": 7,
     "metadata": {},
     "output_type": "execute_result"
    }
   ],
   "source": [
    "4, 11 , 11"
   ]
  },
  {
   "cell_type": "code",
   "execution_count": 125,
   "id": "d5408896",
   "metadata": {
    "ExecuteTime": {
     "end_time": "2023-03-29T09:41:43.654792Z",
     "start_time": "2023-03-29T09:41:43.652976Z"
    }
   },
   "outputs": [],
   "source": [
    "from math import log, ceil\n",
    "from itertools import product"
   ]
  },
  {
   "cell_type": "code",
   "execution_count": 55,
   "id": "16ee243b",
   "metadata": {
    "ExecuteTime": {
     "end_time": "2023-03-29T06:53:14.566020Z",
     "start_time": "2023-03-29T06:53:14.563490Z"
    }
   },
   "outputs": [
    {
     "data": {
      "text/plain": [
       "('1', '4')"
      ]
     },
     "execution_count": 55,
     "metadata": {},
     "output_type": "execute_result"
    }
   ],
   "source": [
    "list(product(num,repeat=2))[3-1]"
   ]
  },
  {
   "cell_type": "code",
   "execution_count": 130,
   "id": "519a2bcd",
   "metadata": {
    "ExecuteTime": {
     "end_time": "2023-03-29T09:44:33.974391Z",
     "start_time": "2023-03-29T09:44:31.828619Z"
    }
   },
   "outputs": [
    {
     "name": "stdout",
     "output_type": "stream",
     "text": [
      "1\n"
     ]
    },
    {
     "data": {
      "text/plain": [
       "-1"
      ]
     },
     "execution_count": 130,
     "metadata": {},
     "output_type": "execute_result"
    }
   ],
   "source": [
    "n=int(input())\n",
    "answer=[]\n",
    "num='124'\n",
    "k=log((2 * (n-1)/3 +1), 3)\n",
    "if k-int(k)<0.00000001:\n",
    "    k = int(k)-1\n",
    "else:\n",
    "    k=int(k)\n",
    "k"
   ]
  },
  {
   "cell_type": "code",
   "execution_count": 131,
   "id": "0f9566ab",
   "metadata": {
    "ExecuteTime": {
     "end_time": "2023-03-29T09:45:17.895604Z",
     "start_time": "2023-03-29T09:45:17.892983Z"
    }
   },
   "outputs": [
    {
     "data": {
      "text/plain": [
       "16.136296440743617"
      ]
     },
     "execution_count": 131,
     "metadata": {},
     "output_type": "execute_result"
    }
   ],
   "source": [
    "log(50000000,3)"
   ]
  },
  {
   "cell_type": "code",
   "execution_count": 124,
   "id": "5fa2a1ee",
   "metadata": {
    "ExecuteTime": {
     "end_time": "2023-03-29T09:37:06.343490Z",
     "start_time": "2023-03-29T09:37:06.340855Z"
    }
   },
   "outputs": [],
   "source": [
    "def solution(n):\n",
    "    answer=[]\n",
    "    num='124'\n",
    "    k=log((2 * (n-1)/3 +1), 3)\n",
    "    if k-int(k)<0:\n",
    "        k=int(k)\n",
    "    else:\n",
    "        k=int(k)+1\n",
    "    print(k)\n",
    "    n-= 3* (3**(k-1)-1)//2\n",
    "    print(n)\n",
    "    # print(n,k,'결정')\n",
    "    \n",
    "    for i in range(k-1,-1,-1):\n",
    "        print(i,f'iter {k-i}',n, n/3)\n",
    "        if n/(3**i)<=1:\n",
    "            answer.append('1')\n",
    "        elif n/(3**i)<=2:\n",
    "            answer.append('2')\n",
    "        else:\n",
    "            answer.append('4')\n",
    "        n%=(3**i)\n",
    "    return ''.join(answer)\n",
    "\n",
    "\n",
    "\n",
    "\n",
    "\n",
    "\n",
    "# print(list(product(num,repeat=k))[n-1])/"
   ]
  },
  {
   "cell_type": "code",
   "execution_count": 123,
   "id": "cccfd485",
   "metadata": {
    "ExecuteTime": {
     "end_time": "2023-03-29T09:36:04.374775Z",
     "start_time": "2023-03-29T09:36:01.348609Z"
    }
   },
   "outputs": [
    {
     "name": "stdout",
     "output_type": "stream",
     "text": [
      "10\n",
      "2\n",
      "7\n",
      "1 iter 1 7 2.3333333333333335\n",
      "0 iter 2 2 0.6666666666666666\n"
     ]
    },
    {
     "data": {
      "text/plain": [
       "'42'"
      ]
     },
     "execution_count": 123,
     "metadata": {},
     "output_type": "execute_result"
    }
   ],
   "source": [
    "solution(int(input()))"
   ]
  },
  {
   "cell_type": "code",
   "execution_count": 58,
   "id": "492f7291",
   "metadata": {
    "ExecuteTime": {
     "end_time": "2023-03-29T06:55:18.677623Z",
     "start_time": "2023-03-29T06:55:18.675056Z"
    }
   },
   "outputs": [],
   "source": [
    "def solution(n):\n",
    "    num='124'\n",
    "    k=log((2 * n/3 +1), 3)\n",
    "    if k-int(k)<0:\n",
    "        k=int(k)\n",
    "    else:\n",
    "        k=int(k)+1\n",
    "    n-= 3* (3**(k-1)-1)//2\n",
    "\n",
    "#     print(n,k,'결정')\n",
    "    \n",
    "    return ''.join(list(product(num,repeat=k))[n-1])"
   ]
  },
  {
   "cell_type": "code",
   "execution_count": 59,
   "id": "431a9eea",
   "metadata": {
    "ExecuteTime": {
     "end_time": "2023-03-29T06:55:25.077170Z",
     "start_time": "2023-03-29T06:55:25.074664Z"
    }
   },
   "outputs": [
    {
     "data": {
      "text/plain": [
       "'14'"
      ]
     },
     "execution_count": 59,
     "metadata": {},
     "output_type": "execute_result"
    }
   ],
   "source": [
    "solution(6)"
   ]
  },
  {
   "cell_type": "code",
   "execution_count": 13,
   "id": "d699687d",
   "metadata": {
    "ExecuteTime": {
     "end_time": "2023-03-29T06:20:32.982076Z",
     "start_time": "2023-03-29T06:20:32.978015Z"
    }
   },
   "outputs": [
    {
     "ename": "ValueError",
     "evalue": "invalid literal for int() with base 3: '6'",
     "output_type": "error",
     "traceback": [
      "\u001b[0;31m---------------------------------------------------------------------------\u001b[0m",
      "\u001b[0;31mValueError\u001b[0m                                Traceback (most recent call last)",
      "\u001b[0;32m/tmp/ipykernel_1478/2695952808.py\u001b[0m in \u001b[0;36m<module>\u001b[0;34m\u001b[0m\n\u001b[0;32m----> 1\u001b[0;31m \u001b[0mint\u001b[0m\u001b[0;34m(\u001b[0m\u001b[0;34m'6'\u001b[0m\u001b[0;34m,\u001b[0m\u001b[0;36m3\u001b[0m\u001b[0;34m)\u001b[0m\u001b[0;34m\u001b[0m\u001b[0;34m\u001b[0m\u001b[0m\n\u001b[0m",
      "\u001b[0;31mValueError\u001b[0m: invalid literal for int() with base 3: '6'"
     ]
    }
   ],
   "source": [
    "int('6',3)"
   ]
  },
  {
   "cell_type": "code",
   "execution_count": null,
   "id": "e5db995c",
   "metadata": {},
   "outputs": [],
   "source": [
    "(2 * n +1) ** (1/k)"
   ]
  }
 ],
 "metadata": {
  "kernelspec": {
   "display_name": "Python 3 (ipykernel)",
   "language": "python",
   "name": "python3"
  },
  "language_info": {
   "codemirror_mode": {
    "name": "ipython",
    "version": 3
   },
   "file_extension": ".py",
   "mimetype": "text/x-python",
   "name": "python",
   "nbconvert_exporter": "python",
   "pygments_lexer": "ipython3",
   "version": "3.10.6"
  },
  "toc": {
   "base_numbering": 1,
   "nav_menu": {},
   "number_sections": true,
   "sideBar": true,
   "skip_h1_title": false,
   "title_cell": "Table of Contents",
   "title_sidebar": "Contents",
   "toc_cell": false,
   "toc_position": {},
   "toc_section_display": true,
   "toc_window_display": false
  }
 },
 "nbformat": 4,
 "nbformat_minor": 5
}
