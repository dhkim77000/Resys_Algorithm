{
 "cells": [
  {
   "cell_type": "code",
   "execution_count": null,
   "id": "de05caaa",
   "metadata": {},
   "outputs": [],
   "source": [
    "N,M = map(int, input().split())\n",
    "chess = [input() for _ in range(N)]\n",
    "count_list = []\n",
    "\n",
    "\n",
    "for x in range(N-7):\n",
    "    for y in range(M-7):\n",
    "        idx1 = 0\n",
    "        idx2 = 0\n",
    "        for b in range(x, x + 8):\n",
    "            for j in range(y, y + 8):              \n",
    "                if (j + b)%2 == 0:\n",
    "                    if chess[b][j] != 'W': idx1 += 1  \n",
    "                    if chess[b][j] != 'B': idx2 += 1\n",
    "                else :\n",
    "                    if chess[b][j] != 'B': idx1 += 1\n",
    "                    if chess[b][j] != 'W': idx2 += 1\n",
    "        count_list.append(idx1)                          \n",
    "        count_list.append(idx2)                          \n",
    "\n",
    "print(min(count_list))"
   ]
  },
  {
   "cell_type": "code",
   "execution_count": null,
   "id": "e4b832db",
   "metadata": {},
   "outputs": [],
   "source": []
  }
 ],
 "metadata": {
  "kernelspec": {
   "display_name": "Python 3 (ipykernel)",
   "language": "python",
   "name": "python3"
  },
  "language_info": {
   "codemirror_mode": {
    "name": "ipython",
    "version": 3
   },
   "file_extension": ".py",
   "mimetype": "text/x-python",
   "name": "python",
   "nbconvert_exporter": "python",
   "pygments_lexer": "ipython3",
   "version": "3.10.6"
  }
 },
 "nbformat": 4,
 "nbformat_minor": 5
}
