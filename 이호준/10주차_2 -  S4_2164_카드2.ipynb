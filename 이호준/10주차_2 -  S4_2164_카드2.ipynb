{
 "cells": [
  {
   "cell_type": "code",
   "execution_count": 2,
   "id": "1cda8953",
   "metadata": {
    "ExecuteTime": {
     "end_time": "2023-05-09T02:52:05.600082Z",
     "start_time": "2023-05-09T02:52:03.663324Z"
    }
   },
   "outputs": [
    {
     "name": "stdout",
     "output_type": "stream",
     "text": [
      "5\n",
      "2\n"
     ]
    }
   ],
   "source": [
    "from collections import deque\n",
    "cards = deque(range(int(input())))\n",
    "while len(cards)>1:\n",
    "    cards.popleft()\n",
    "    cards.append(cards.popleft())\n",
    "print(cards[0]+1)"
   ]
  },
  {
   "cell_type": "markdown",
   "id": "af995cfa",
   "metadata": {},
   "source": [
    "고수풀이"
   ]
  },
  {
   "cell_type": "code",
   "execution_count": null,
   "id": "adfe9e35",
   "metadata": {},
   "outputs": [],
   "source": [
    "n=int(input())\n",
    "i=0\n",
    "while 2**i<n:\n",
    "    i+=1\n",
    "print(2*n-2**i)"
   ]
  }
 ],
 "metadata": {
  "kernelspec": {
   "display_name": "Python 3 (ipykernel)",
   "language": "python",
   "name": "python3"
  },
  "language_info": {
   "codemirror_mode": {
    "name": "ipython",
    "version": 3
   },
   "file_extension": ".py",
   "mimetype": "text/x-python",
   "name": "python",
   "nbconvert_exporter": "python",
   "pygments_lexer": "ipython3",
   "version": "3.10.6"
  },
  "toc": {
   "base_numbering": 1,
   "nav_menu": {},
   "number_sections": true,
   "sideBar": true,
   "skip_h1_title": false,
   "title_cell": "Table of Contents",
   "title_sidebar": "Contents",
   "toc_cell": false,
   "toc_position": {},
   "toc_section_display": true,
   "toc_window_display": false
  }
 },
 "nbformat": 4,
 "nbformat_minor": 5
}
